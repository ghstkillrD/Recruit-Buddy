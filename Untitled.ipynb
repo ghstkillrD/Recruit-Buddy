{
 "cells": [
  {
   "cell_type": "code",
   "execution_count": 16,
   "id": "d6fbec94",
   "metadata": {},
   "outputs": [],
   "source": [
    "# Import required libraries\n",
    "import pandas as pd\n",
    "from sklearn.feature_extraction.text import TfidfVectorizer\n",
    "from sklearn.metrics.pairwise import cosine_similarity\n",
    "from sklearn.model_selection import train_test_split\n",
    "from sklearn.ensemble import RandomForestClassifier\n",
    "from sklearn.metrics import accuracy_score"
   ]
  },
  {
   "cell_type": "code",
   "execution_count": 17,
   "id": "2bb6dbe7",
   "metadata": {},
   "outputs": [],
   "source": [
    "# Load job listings data\n",
    "job_data = pd.read_csv('job_data_naukri.csv')\n",
    "\n",
    "# Preprocess data\n",
    "job_data.drop_duplicates(inplace=True)\n",
    "job_data.dropna(inplace=True)\n",
    "\n",
    "# Define features\n",
    "features = ['Company', 'Education', 'Experience', 'Industry', 'Job Description', 'Job Location', 'Job Title', 'Pay Rate', 'Shift Type']\n",
    "job_data['Experience'] = job_data['Experience'].astype(str)\n",
    "\n",
    "# Get user inputs\n",
    "user_job_title = 'software developer'\n",
    "user_shift_type = 'part time'\n",
    "#user_skills = 'java'\n",
    "user_experience = '4'\n",
    "\n",
    "# Filter job data by shift type\n",
    "#job_data = job_data[job_data['Shift Type'] == user_shift_type]\n",
    "\n",
    "# Filter job data by experience\n",
    "job_data = job_data[job_data['Experience'] <= user_experience]"
   ]
  },
  {
   "cell_type": "code",
   "execution_count": 18,
   "id": "29cb2116",
   "metadata": {},
   "outputs": [],
   "source": [
    "# Vectorize features\n",
    "vectorizer = TfidfVectorizer(stop_words='english')\n",
    "job_features = vectorizer.fit_transform(job_data[features].apply(lambda x: ' '.join(x), axis=1))\n",
    "user_features = vectorizer.transform([user_job_title])\n",
    "#user_features = vectorizer.transform([user_shift_type])\n",
    "#user_features = vectorizer.transform([user_skills])"
   ]
  },
  {
   "cell_type": "code",
   "execution_count": 20,
   "id": "fefb057f",
   "metadata": {},
   "outputs": [
    {
     "name": "stdout",
     "output_type": "stream",
     "text": [
      "Accuracy: 0.8340026773761714\n",
      "Recommended jobs: [['C++ Developer - Bangalore / Hyderabad / Pune', 'Full Time', '2'], ['Biztalk Developer-', 'Full Time', '3'], ['PHP Developer', 'Full Time', '2'], ['Informatica Developer', 'Part Time', '11'], ['Tibco Developer', 'Part Time', '12'], ['Informatica Developer', 'Full Time', '3'], ['UI/ Front End Developer - Javascript', 'Work From Home', '4'], ['Informatica Developer', 'Work From Home', '2'], ['Plsql Developer', 'Full Time', '2'], ['Urgent Freshers Software Engineer/software Developer Java All India', 'Work From Home', '4']]\n"
     ]
    }
   ],
   "source": [
    "# Train machine learning model\n",
    "X_train, X_test, y_train, y_test = train_test_split(job_features, job_data['Industry'], test_size=0.2, random_state=42)\n",
    "model = RandomForestClassifier(n_estimators=100, random_state=42)\n",
    "model.fit(X_train, y_train)\n",
    "\n",
    "# Evaluate model\n",
    "y_pred = model.predict(X_test)\n",
    "print('Accuracy:', accuracy_score(y_test, y_pred))\n",
    "\n",
    "# Get job recommendations for user\n",
    "user_similarity = cosine_similarity(user_features, job_features).flatten()\n",
    "job_data['similarity'] = user_similarity\n",
    "job_data = job_data.sort_values('similarity', ascending=False)\n",
    "recommendations = job_data.head(10)[['Job Title', 'Shift Type', 'Experience']].values.tolist()\n",
    "print('Recommended jobs:', recommendations)"
   ]
  },
  {
   "cell_type": "code",
   "execution_count": null,
   "id": "2ef02322",
   "metadata": {},
   "outputs": [],
   "source": []
  },
  {
   "cell_type": "code",
   "execution_count": null,
   "id": "3f05213e",
   "metadata": {},
   "outputs": [],
   "source": []
  },
  {
   "cell_type": "code",
   "execution_count": null,
   "id": "e92a839f",
   "metadata": {},
   "outputs": [],
   "source": []
  },
  {
   "cell_type": "code",
   "execution_count": null,
   "id": "a3c5b4c3",
   "metadata": {},
   "outputs": [],
   "source": []
  }
 ],
 "metadata": {
  "kernelspec": {
   "display_name": "Python 3 (ipykernel)",
   "language": "python",
   "name": "python3"
  },
  "language_info": {
   "codemirror_mode": {
    "name": "ipython",
    "version": 3
   },
   "file_extension": ".py",
   "mimetype": "text/x-python",
   "name": "python",
   "nbconvert_exporter": "python",
   "pygments_lexer": "ipython3",
   "version": "3.11.0"
  }
 },
 "nbformat": 4,
 "nbformat_minor": 5
}
